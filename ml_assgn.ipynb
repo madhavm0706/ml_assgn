{
  "cells": [
    {
      "cell_type": "code",
      "execution_count": 45,
      "metadata": {
        "id": "323e7370"
      },
      "outputs": [],
      "source": [
        "import numpy as np\n",
        "from scipy.linalg import khatri_rao\n",
        "from sklearn.model_selection import train_test_split\n",
        "import random"
      ],
      "id": "323e7370"
    },
    {
      "cell_type": "code",
      "execution_count": 46,
      "metadata": {
        "id": "bd36ee7d"
      },
      "outputs": [],
      "source": [
        "dataset = np.genfromtxt(\"/content/train.dat\")"
      ],
      "id": "bd36ee7d"
    },
    {
      "cell_type": "code",
      "execution_count": 47,
      "metadata": {
        "colab": {
          "base_uri": "https://localhost:8080/"
        },
        "id": "0d7ee3b6",
        "outputId": "15284d5a-88d7-4654-b238-2f9b71de4288"
      },
      "outputs": [
        {
          "output_type": "execute_result",
          "data": {
            "text/plain": [
              "(10000, 9)"
            ]
          },
          "metadata": {},
          "execution_count": 47
        }
      ],
      "source": [
        "dataset = np.array(dataset)\n",
        "dataset.shape"
      ],
      "id": "0d7ee3b6"
    },
    {
      "cell_type": "code",
      "execution_count": 48,
      "metadata": {
        "colab": {
          "base_uri": "https://localhost:8080/"
        },
        "id": "6444588e",
        "outputId": "205b40b5-d108-4ef6-e9a4-71999eee8015"
      },
      "outputs": [
        {
          "output_type": "execute_result",
          "data": {
            "text/plain": [
              "(10000,)"
            ]
          },
          "metadata": {},
          "execution_count": 48
        }
      ],
      "source": [
        "def get_lables(Y):\n",
        "    y = np.where(Y==0,-1, 1)\n",
        "    return y\n",
        "\n",
        "y = get_lables(dataset[:, -1])\n",
        "y.shape"
      ],
      "id": "6444588e"
    },
    {
      "cell_type": "code",
      "execution_count": 49,
      "metadata": {
        "id": "7c7b1355"
      },
      "outputs": [],
      "source": [
        "X_trn, X_tst, y_trn, y_tst = train_test_split(dataset[:, :-1], y, train_size=5000, random_state= 1)"
      ],
      "id": "7c7b1355"
    },
    {
      "cell_type": "code",
      "execution_count": 50,
      "metadata": {
        "id": "3db54454"
      },
      "outputs": [],
      "source": [
        "def add_bias(X):\n",
        "    X = np.c_[X, np.ones(X.shape[0])]\n",
        "    return X"
      ],
      "id": "3db54454"
    },
    {
      "cell_type": "code",
      "execution_count": 51,
      "metadata": {
        "id": "521bdf7a"
      },
      "outputs": [],
      "source": [
        "#get_lables(Y)\n",
        "#np.c_[np.array([[1,2],[3,4]]), np.ones(2)]"
      ],
      "id": "521bdf7a"
    },
    {
      "cell_type": "code",
      "execution_count": 52,
      "metadata": {
        "id": "87db6ced"
      },
      "outputs": [],
      "source": [
        "def get_features(X):\n",
        "    print(type(X))\n",
        "    X_trans = X.T\n",
        "    X_prod = khatri_rao(X_trans, X_trans)\n",
        "    phi_X = khatri_rao(X_trans,X_prod)\n",
        "    phi_X = phi_X.T\n",
        "    #print(phi_X.shape)\n",
        "    return phi_X"
      ],
      "id": "87db6ced"
    },
    {
      "cell_type": "code",
      "execution_count": 53,
      "metadata": {
        "id": "a2e8c03d"
      },
      "outputs": [],
      "source": [
        "def create_Features(X):\n",
        "    return np.cumprod( np.flip( 2 * X - 1 , axis = 1 ), axis = 1 )"
      ],
      "id": "a2e8c03d"
    },
    {
      "cell_type": "code",
      "execution_count": 135,
      "metadata": {
        "id": "3bc289a4"
      },
      "outputs": [],
      "source": [
        "def solver(X,y):\n",
        "    lr = 0.0001\n",
        "    n_iters= 6000\n",
        "    C= 10\n",
        "    w = 0\n",
        "    #b = 0\n",
        "    n_samples, n_features = X.shape\n",
        "    w = np.zeros(n_features)\n",
        "    #b = 0\n",
        "    \n",
        "    for i in range(n_iters):\n",
        "        randindex = np.random.randint(len(X))\n",
        "        condition = y[randindex] * (np.dot(X[randindex], w)) >=1\n",
        "        if(condition):\n",
        "          w = w- lr * (C * w)\n",
        "        else:\n",
        "          w = w- lr * (C * w - np.dot(X[randindex], y[randindex]))\n",
        "    return w\n",
        "\n",
        "    "
      ],
      "id": "3bc289a4"
    },
    {
      "cell_type": "code",
      "execution_count": 136,
      "metadata": {
        "colab": {
          "base_uri": "https://localhost:8080/"
        },
        "id": "6272cc46",
        "outputId": "f0a09b66-bea9-450a-8a7d-05d903b6af9d"
      },
      "outputs": [
        {
          "output_type": "stream",
          "name": "stdout",
          "text": [
            "<class 'numpy.ndarray'>\n"
          ]
        }
      ],
      "source": [
        "cf = create_Features(X_trn)\n",
        "#print(cf)\n",
        "phi_XG = get_features(add_bias(cf))\n",
        "#print(phi_XG)\n",
        "w = solver(phi_XG, y_trn)\n",
        "#print(w)\n",
        "def mySVM(X):\n",
        "    y_pred = X.dot(w)\n",
        "    y_pred = np.where(y_pred >0, 1, -1)\n",
        "    return y_pred"
      ],
      "id": "6272cc46"
    },
    {
      "cell_type": "code",
      "execution_count": 137,
      "metadata": {
        "colab": {
          "base_uri": "https://localhost:8080/"
        },
        "id": "2602fc62",
        "outputId": "b3931d35-3654-4055-8ab6-31b1203029c1"
      },
      "outputs": [
        {
          "output_type": "stream",
          "name": "stdout",
          "text": [
            "[-1  1 -1 ... -1 -1  1]\n",
            "<class 'numpy.ndarray'>\n"
          ]
        },
        {
          "output_type": "execute_result",
          "data": {
            "text/plain": [
              "0.8306"
            ]
          },
          "metadata": {},
          "execution_count": 137
        }
      ],
      "source": [
        "y_pred = mySVM(phi_XG)\n",
        "#y_pred = np.where(y_pred >0, 1, -1)\n",
        "print(y_pred)\n",
        "cf_tst = create_Features(X_tst)\n",
        "phi_XG_tst = get_features(add_bias(cf_tst))\n",
        "\n",
        "np.average(y_tst == mySVM(phi_XG_tst))"
      ],
      "id": "2602fc62"
    },
    {
      "cell_type": "code",
      "execution_count": 59,
      "metadata": {
        "id": "8bb0706a"
      },
      "outputs": [],
      "source": [],
      "id": "8bb0706a"
    }
  ],
  "metadata": {
    "colab": {
      "provenance": [],
      "collapsed_sections": []
    },
    "kernelspec": {
      "display_name": "Python 3 (ipykernel)",
      "language": "python",
      "name": "python3"
    },
    "language_info": {
      "codemirror_mode": {
        "name": "ipython",
        "version": 3
      },
      "file_extension": ".py",
      "mimetype": "text/x-python",
      "name": "python",
      "nbconvert_exporter": "python",
      "pygments_lexer": "ipython3",
      "version": "3.9.12"
    }
  },
  "nbformat": 4,
  "nbformat_minor": 5
}